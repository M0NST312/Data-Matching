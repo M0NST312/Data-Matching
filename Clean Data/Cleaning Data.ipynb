{
 "cells": [
  {
   "cell_type": "code",
   "execution_count": 1,
   "id": "3b248bec",
   "metadata": {},
   "outputs": [],
   "source": [
    "import pandas as pd\n",
    "import numpy as np\n",
    "import re"
   ]
  },
  {
   "cell_type": "code",
   "execution_count": 2,
   "id": "b2e39cb5",
   "metadata": {},
   "outputs": [],
   "source": [
    "#df_missing_tins = pd.read_excel(\"C:\\\\Users\\\\vkhumalo\\\\OneDrive - Eswatini Revenue Service\\\\Documents\\\\Data Matching\\\\FEB WEEK 2\\\\Gov April 2020- March 2022.xlsx\")\n",
    "df_missing_tins = pd.read_excel(\"\")\n"
   ]
  },
  {
   "cell_type": "code",
   "execution_count": 3,
   "id": "0a4dd0d2",
   "metadata": {
    "scrolled": true
   },
   "outputs": [
    {
     "data": {
      "text/html": [
       "<div>\n",
       "<style scoped>\n",
       "    .dataframe tbody tr th:only-of-type {\n",
       "        vertical-align: middle;\n",
       "    }\n",
       "\n",
       "    .dataframe tbody tr th {\n",
       "        vertical-align: top;\n",
       "    }\n",
       "\n",
       "    .dataframe thead th {\n",
       "        text-align: right;\n",
       "    }\n",
       "</style>\n",
       "<table border=\"1\" class=\"dataframe\">\n",
       "  <thead>\n",
       "    <tr style=\"text-align: right;\">\n",
       "      <th></th>\n",
       "      <th>Payee</th>\n",
       "    </tr>\n",
       "  </thead>\n",
       "  <tbody>\n",
       "    <tr>\n",
       "      <th>0</th>\n",
       "      <td>A M TREE CUTTING (PROPRIETARY)</td>\n",
       "    </tr>\n",
       "    <tr>\n",
       "      <th>1</th>\n",
       "      <td>A P INVESTMENTS (PROPRIETARY)</td>\n",
       "    </tr>\n",
       "    <tr>\n",
       "      <th>2</th>\n",
       "      <td>A TO Z GRANITE TRADE</td>\n",
       "    </tr>\n",
       "    <tr>\n",
       "      <th>3</th>\n",
       "      <td>A WEAR CLOTHING MANUFACTURER</td>\n",
       "    </tr>\n",
       "    <tr>\n",
       "      <th>4</th>\n",
       "      <td>ABAPHILE NOMALUNGELO MTSHALI</td>\n",
       "    </tr>\n",
       "  </tbody>\n",
       "</table>\n",
       "</div>"
      ],
      "text/plain": [
       "                            Payee\n",
       "0  A M TREE CUTTING (PROPRIETARY)\n",
       "1   A P INVESTMENTS (PROPRIETARY)\n",
       "2            A TO Z GRANITE TRADE\n",
       "3    A WEAR CLOTHING MANUFACTURER\n",
       "4    ABAPHILE NOMALUNGELO MTSHALI"
      ]
     },
     "execution_count": 3,
     "metadata": {},
     "output_type": "execute_result"
    }
   ],
   "source": [
    "df_missing_tins.head(5)"
   ]
  },
  {
   "cell_type": "code",
   "execution_count": 5,
   "id": "2a3440a9",
   "metadata": {},
   "outputs": [],
   "source": [
    "'''\n",
    "    Function: Takes string as argument and cleans it using regex\n",
    "'''\n",
    "def cleantext(string):\n",
    "    if not(string.islower()):        \n",
    "        string = string.lower()\n",
    "        \n",
    "    string  =re.sub(pattern='[()]', repl=\"\",string=string) \n",
    "    string  =re.sub(pattern=r'\\bproprietary\\b|\\bproprietar\\b|\\bproprieta\\b|\\bpropriet\\b|\\bproprie\\b|\\blimited\\b|\\bpropri\\b|\\blimite\\b|\\blimi\\b|\\blim\\b|\\bli\\b|\\bpty\\b|\\bltd\\b|\\binc\\b', repl=\"\",string=string)\n",
    "    string  = string.strip()\n",
    "    #string = re.sub(pattern=r'')\n",
    "    string = re.sub(' +', ' ', string)\n",
    "    '''\n",
    "        string = re.sub(pattern = 'limited$', repl=\"\",string=string)\n",
    "        string = re.sub(pattern = 'limite$', repl=\"\",string=string)\n",
    "        string = re.sub(pattern = 'limi$', repl=\"\",string=string)\n",
    "        string = re.sub(pattern = 'lim$', repl=\"\",string=string)\n",
    "        string = re.sub(pattern = 'li$', repl=\"\",string=string)\n",
    "        string  =re.sub(pattern='proprietary$', repl=\"\",string=string)\n",
    "        string =re.sub(pattern = 'proprietar$', repl=\"\",string=string)\n",
    "        string = re.sub(pattern = 'proprieta$', repl=\"\",string=string)\n",
    "        string = re.sub(pattern = 'propriet$', repl=\"\",string=string)\n",
    "        string = re.sub(pattern = 'proprie$', repl=\"\",string=string)    \n",
    "        string = re.sub(pattern = 'propri$', repl=\"\",string=string)\n",
    "        #string  =re.sub(pattern='.', repl=\"\",string=string) \n",
    "    '''\n",
    "    string = string.upper()\n",
    "    return string"
   ]
  },
  {
   "cell_type": "code",
   "execution_count": 6,
   "id": "00e4a04b",
   "metadata": {},
   "outputs": [],
   "source": [
    "#Clean the data and store it in an array\n",
    "clean_data = []\n",
    "for str in df_missing_tins['Payee']:\n",
    "    clean_data.append(cleantext(str))"
   ]
  },
  {
   "cell_type": "code",
   "execution_count": 7,
   "id": "580d9218",
   "metadata": {},
   "outputs": [],
   "source": [
    "# Create a data frame column from the clean array\n",
    "df_missing_tins['Cleaned'] = clean_data"
   ]
  },
  {
   "cell_type": "code",
   "execution_count": 8,
   "id": "4ba33c20",
   "metadata": {},
   "outputs": [
    {
     "data": {
      "text/html": [
       "<div>\n",
       "<style scoped>\n",
       "    .dataframe tbody tr th:only-of-type {\n",
       "        vertical-align: middle;\n",
       "    }\n",
       "\n",
       "    .dataframe tbody tr th {\n",
       "        vertical-align: top;\n",
       "    }\n",
       "\n",
       "    .dataframe thead th {\n",
       "        text-align: right;\n",
       "    }\n",
       "</style>\n",
       "<table border=\"1\" class=\"dataframe\">\n",
       "  <thead>\n",
       "    <tr style=\"text-align: right;\">\n",
       "      <th></th>\n",
       "      <th>Payee</th>\n",
       "      <th>Cleaned</th>\n",
       "    </tr>\n",
       "  </thead>\n",
       "  <tbody>\n",
       "    <tr>\n",
       "      <th>1109</th>\n",
       "      <td>BIDVEST STEINER</td>\n",
       "      <td>BIDVEST STEINER</td>\n",
       "    </tr>\n",
       "    <tr>\n",
       "      <th>8185</th>\n",
       "      <td>THANDIWE G TSABEDZE</td>\n",
       "      <td>THANDIWE G TSABEDZE</td>\n",
       "    </tr>\n",
       "    <tr>\n",
       "      <th>6446</th>\n",
       "      <td>PC SYSTEMS</td>\n",
       "      <td>PC SYSTEMS</td>\n",
       "    </tr>\n",
       "    <tr>\n",
       "      <th>758</th>\n",
       "      <td>BIDVEST STEINER</td>\n",
       "      <td>BIDVEST STEINER</td>\n",
       "    </tr>\n",
       "    <tr>\n",
       "      <th>490</th>\n",
       "      <td>BEN J SIMELANE &amp; ASSOCIATES</td>\n",
       "      <td>BEN J SIMELANE &amp; ASSOCIATES</td>\n",
       "    </tr>\n",
       "  </tbody>\n",
       "</table>\n",
       "</div>"
      ],
      "text/plain": [
       "                            Payee                      Cleaned\n",
       "1109              BIDVEST STEINER              BIDVEST STEINER\n",
       "8185          THANDIWE G TSABEDZE          THANDIWE G TSABEDZE\n",
       "6446                   PC SYSTEMS                   PC SYSTEMS\n",
       "758               BIDVEST STEINER              BIDVEST STEINER\n",
       "490   BEN J SIMELANE & ASSOCIATES  BEN J SIMELANE & ASSOCIATES"
      ]
     },
     "execution_count": 8,
     "metadata": {},
     "output_type": "execute_result"
    }
   ],
   "source": [
    "df_missing_tins.sample(5)"
   ]
  },
  {
   "cell_type": "code",
   "execution_count": 29,
   "id": "628433a6",
   "metadata": {},
   "outputs": [],
   "source": [
    "# Export dataframe to csv\n",
    "df_missing_tins.to_csv('CleanedData_5.csv', encoding='utf-8')"
   ]
  },
  {
   "cell_type": "code",
   "execution_count": null,
   "id": "39c3390f",
   "metadata": {},
   "outputs": [],
   "source": []
  }
 ],
 "metadata": {
  "kernelspec": {
   "display_name": "Python 3 (ipykernel)",
   "language": "python",
   "name": "python3"
  },
  "language_info": {
   "codemirror_mode": {
    "name": "ipython",
    "version": 3
   },
   "file_extension": ".py",
   "mimetype": "text/x-python",
   "name": "python",
   "nbconvert_exporter": "python",
   "pygments_lexer": "ipython3",
   "version": "3.9.12"
  }
 },
 "nbformat": 4,
 "nbformat_minor": 5
}
