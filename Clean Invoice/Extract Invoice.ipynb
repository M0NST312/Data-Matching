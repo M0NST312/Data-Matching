{
 "cells": [
  {
   "cell_type": "code",
   "execution_count": 2,
   "id": "6bc0c437",
   "metadata": {},
   "outputs": [],
   "source": [
    "import pandas as pd\n",
    "import numpy as np\n",
    "import re"
   ]
  },
  {
   "cell_type": "code",
   "execution_count": null,
   "id": "91c5334c",
   "metadata": {},
   "outputs": [],
   "source": [
    "df = pd.read_excel(\"\")"
   ]
  },
  {
   "cell_type": "code",
   "execution_count": null,
   "id": "9479897e",
   "metadata": {},
   "outputs": [],
   "source": [
    "df.sample(5)"
   ]
  },
  {
   "cell_type": "markdown",
   "id": "6dcc8892",
   "metadata": {},
   "source": [
    "### Extract Invoice Number"
   ]
  },
  {
   "cell_type": "code",
   "execution_count": 15,
   "id": "ddc790ed",
   "metadata": {},
   "outputs": [],
   "source": [
    "'''\n",
    "    Function : Extracts invoice from dirty invoice number\n",
    "    str : unclean invoice number\n",
    "'''\n",
    "def clean_invoice(str):\n",
    "    found = re.search('Inv:',str)\n",
    "    if (found != None):\n",
    "        invoice = re.search('Inv: (.+?) Sup:', str).group(1)\n",
    "    else:\n",
    "        invoice = None\n",
    "    return invoice"
   ]
  },
  {
   "cell_type": "code",
   "execution_count": 26,
   "id": "76f677e2",
   "metadata": {},
   "outputs": [],
   "source": [
    "# Extract invoice number using clean_invoice\n",
    "clean_invoice_array = []\n",
    "for invoice in df['INVOICE NUMBER']:    \n",
    "    inv = clean_invoice(invoice)\n",
    "    clean_invoice_array.append(inv)"
   ]
  },
  {
   "cell_type": "code",
   "execution_count": 27,
   "id": "a343bace",
   "metadata": {},
   "outputs": [],
   "source": [
    "df[\"CLEAN INVOICE\"] = clean_invoice_array"
   ]
  },
  {
   "cell_type": "code",
   "execution_count": null,
   "id": "60285dc5",
   "metadata": {},
   "outputs": [],
   "source": [
    "df.sample(5)"
   ]
  },
  {
   "cell_type": "code",
   "execution_count": 30,
   "id": "f0116e0c",
   "metadata": {},
   "outputs": [],
   "source": [
    "df.to_csv('Cleaned_INV.csv', encoding='utf-8')"
   ]
  },
  {
   "cell_type": "code",
   "execution_count": null,
   "id": "5b41711b",
   "metadata": {},
   "outputs": [],
   "source": []
  }
 ],
 "metadata": {
  "kernelspec": {
   "display_name": "Python 3 (ipykernel)",
   "language": "python",
   "name": "python3"
  },
  "language_info": {
   "codemirror_mode": {
    "name": "ipython",
    "version": 3
   },
   "file_extension": ".py",
   "mimetype": "text/x-python",
   "name": "python",
   "nbconvert_exporter": "python",
   "pygments_lexer": "ipython3",
   "version": "3.9.12"
  }
 },
 "nbformat": 4,
 "nbformat_minor": 5
}
