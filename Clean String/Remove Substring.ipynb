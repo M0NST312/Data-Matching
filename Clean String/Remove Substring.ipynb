{
 "cells": [
  {
   "cell_type": "code",
   "execution_count": 1,
   "id": "2bbd9dce",
   "metadata": {},
   "outputs": [],
   "source": [
    "import pandas as pd\n",
    "import numpy as np\n",
    "import re"
   ]
  },
  {
   "cell_type": "code",
   "execution_count": 154,
   "id": "db963f20",
   "metadata": {},
   "outputs": [],
   "source": [
    "df = pd.read_excel(\"\")"
   ]
  },
  {
   "cell_type": "code",
   "execution_count": 141,
   "id": "70f8999d",
   "metadata": {
    "scrolled": true
   },
   "outputs": [
    {
     "data": {
      "text/html": [
       "<div>\n",
       "<style scoped>\n",
       "    .dataframe tbody tr th:only-of-type {\n",
       "        vertical-align: middle;\n",
       "    }\n",
       "\n",
       "    .dataframe tbody tr th {\n",
       "        vertical-align: top;\n",
       "    }\n",
       "\n",
       "    .dataframe thead th {\n",
       "        text-align: right;\n",
       "    }\n",
       "</style>\n",
       "<table border=\"1\" class=\"dataframe\">\n",
       "  <thead>\n",
       "    <tr style=\"text-align: right;\">\n",
       "      <th></th>\n",
       "      <th>CustomerName</th>\n",
       "    </tr>\n",
       "  </thead>\n",
       "  <tbody>\n",
       "    <tr>\n",
       "      <th>0</th>\n",
       "      <td>Pick 'n Pay Family Mbabane KT03  (Imana Foods ...</td>\n",
       "    </tr>\n",
       "    <tr>\n",
       "      <th>1</th>\n",
       "      <td>Pick 'n Pay Family Crescent KT08 AVI Tea 10000...</td>\n",
       "    </tr>\n",
       "    <tr>\n",
       "      <th>2</th>\n",
       "      <td>Pick 'n Pay Family Crescent  KT08 Tiger Snacks...</td>\n",
       "    </tr>\n",
       "    <tr>\n",
       "      <th>3</th>\n",
       "      <td>Pick 'n Pay Family Crescent KT08 Logico ECCB 1...</td>\n",
       "    </tr>\n",
       "    <tr>\n",
       "      <th>4</th>\n",
       "      <td>Pick 'n Pay Family Manzini  KT04 Bayers 100001...</td>\n",
       "    </tr>\n",
       "  </tbody>\n",
       "</table>\n",
       "</div>"
      ],
      "text/plain": [
       "                                        CustomerName\n",
       "0  Pick 'n Pay Family Mbabane KT03  (Imana Foods ...\n",
       "1  Pick 'n Pay Family Crescent KT08 AVI Tea 10000...\n",
       "2  Pick 'n Pay Family Crescent  KT08 Tiger Snacks...\n",
       "3  Pick 'n Pay Family Crescent KT08 Logico ECCB 1...\n",
       "4  Pick 'n Pay Family Manzini  KT04 Bayers 100001..."
      ]
     },
     "execution_count": 141,
     "metadata": {},
     "output_type": "execute_result"
    }
   ],
   "source": [
    "df.head(5)"
   ]
  },
  {
   "cell_type": "code",
   "execution_count": 152,
   "id": "9a1de0b9",
   "metadata": {},
   "outputs": [],
   "source": [
    "'''\n",
    "    Function : Clean unwanted text from a string\n",
    "'''\n",
    "def cleantext(string):\n",
    "    string = re.sub(r\"[()]\", \"\",string) \n",
    "    \n",
    "    if \"KT\" in string:\n",
    "        string = re.sub(\"Family\",'',string)\n",
    "        string = re.sub(\"Store\",'',string)\n",
    "        str = re.search(r\"(KT|AVI)\\d*[\\s*\\w*\\W*]*\", string).group()\n",
    "        string = re.sub(str,'',string)\n",
    "    elif \"AVI\" in string:\n",
    "        string = re.sub('Family','',string)\n",
    "        string = re.sub('Store','',string)\n",
    "        str = re.search(r\"(KT|AVI)\\d*[\\s*\\w*\\W*]*\", string).group()\n",
    "        string = re.sub(str,'',string)\n",
    "       \n",
    "    return string"
   ]
  },
  {
   "cell_type": "code",
   "execution_count": 155,
   "id": "702efe88",
   "metadata": {},
   "outputs": [],
   "source": [
    "# Remove unwanted text from string using the function cleantext and store it in an array\n",
    "clean_customer = []\n",
    "for customer in df['CustomerName']:\n",
    "    cust =  cleantext(customer)\n",
    "    clean_customer.append(cust)"
   ]
  },
  {
   "cell_type": "code",
   "execution_count": 156,
   "id": "6165a83e",
   "metadata": {},
   "outputs": [],
   "source": [
    "# Add cleaned array into a dataframe column\n",
    "df['Clean_Customer_Name'] = clean_customer"
   ]
  },
  {
   "cell_type": "code",
   "execution_count": 157,
   "id": "ffda5655",
   "metadata": {
    "scrolled": true
   },
   "outputs": [
    {
     "data": {
      "text/html": [
       "<div>\n",
       "<style scoped>\n",
       "    .dataframe tbody tr th:only-of-type {\n",
       "        vertical-align: middle;\n",
       "    }\n",
       "\n",
       "    .dataframe tbody tr th {\n",
       "        vertical-align: top;\n",
       "    }\n",
       "\n",
       "    .dataframe thead th {\n",
       "        text-align: right;\n",
       "    }\n",
       "</style>\n",
       "<table border=\"1\" class=\"dataframe\">\n",
       "  <thead>\n",
       "    <tr style=\"text-align: right;\">\n",
       "      <th></th>\n",
       "      <th>CustomerName</th>\n",
       "      <th>Clean_Customer_Name</th>\n",
       "    </tr>\n",
       "  </thead>\n",
       "  <tbody>\n",
       "    <tr>\n",
       "      <th>0</th>\n",
       "      <td>Pick 'n Pay Family Mbabane KT03  (Imana Foods ...</td>\n",
       "      <td>Pick 'n Pay  Mbabane</td>\n",
       "    </tr>\n",
       "    <tr>\n",
       "      <th>1</th>\n",
       "      <td>Pick 'n Pay Family Crescent KT08 AVI Tea 10000...</td>\n",
       "      <td>Pick 'n Pay  Crescent</td>\n",
       "    </tr>\n",
       "    <tr>\n",
       "      <th>2</th>\n",
       "      <td>Pick 'n Pay Family Crescent  KT08 Tiger Snacks...</td>\n",
       "      <td>Pick 'n Pay  Crescent</td>\n",
       "    </tr>\n",
       "    <tr>\n",
       "      <th>3</th>\n",
       "      <td>Pick 'n Pay Family Crescent KT08 Logico ECCB 1...</td>\n",
       "      <td>Pick 'n Pay  Crescent</td>\n",
       "    </tr>\n",
       "    <tr>\n",
       "      <th>4</th>\n",
       "      <td>Pick 'n Pay Family Manzini  KT04 Bayers 100001...</td>\n",
       "      <td>Pick 'n Pay  Manzini</td>\n",
       "    </tr>\n",
       "  </tbody>\n",
       "</table>\n",
       "</div>"
      ],
      "text/plain": [
       "                                        CustomerName      Clean_Customer_Name\n",
       "0  Pick 'n Pay Family Mbabane KT03  (Imana Foods ...    Pick 'n Pay  Mbabane \n",
       "1  Pick 'n Pay Family Crescent KT08 AVI Tea 10000...   Pick 'n Pay  Crescent \n",
       "2  Pick 'n Pay Family Crescent  KT08 Tiger Snacks...  Pick 'n Pay  Crescent  \n",
       "3  Pick 'n Pay Family Crescent KT08 Logico ECCB 1...   Pick 'n Pay  Crescent \n",
       "4  Pick 'n Pay Family Manzini  KT04 Bayers 100001...   Pick 'n Pay  Manzini  "
      ]
     },
     "execution_count": 157,
     "metadata": {},
     "output_type": "execute_result"
    }
   ],
   "source": [
    "df.head()"
   ]
  },
  {
   "cell_type": "code",
   "execution_count": 149,
   "id": "36117a05",
   "metadata": {},
   "outputs": [
    {
     "data": {
      "text/plain": [
       "(35185, 2)"
      ]
     },
     "execution_count": 149,
     "metadata": {},
     "output_type": "execute_result"
    }
   ],
   "source": [
    "df.shape"
   ]
  },
  {
   "cell_type": "code",
   "execution_count": 158,
   "id": "86676c22",
   "metadata": {},
   "outputs": [],
   "source": [
    "#Export dataframe to excel\n",
    "df.to_excel(\"CleanedData.xlsx\")"
   ]
  },
  {
   "cell_type": "code",
   "execution_count": null,
   "id": "66694547",
   "metadata": {},
   "outputs": [],
   "source": []
  }
 ],
 "metadata": {
  "kernelspec": {
   "display_name": "Python 3 (ipykernel)",
   "language": "python",
   "name": "python3"
  },
  "language_info": {
   "codemirror_mode": {
    "name": "ipython",
    "version": 3
   },
   "file_extension": ".py",
   "mimetype": "text/x-python",
   "name": "python",
   "nbconvert_exporter": "python",
   "pygments_lexer": "ipython3",
   "version": "3.9.12"
  }
 },
 "nbformat": 4,
 "nbformat_minor": 5
}
